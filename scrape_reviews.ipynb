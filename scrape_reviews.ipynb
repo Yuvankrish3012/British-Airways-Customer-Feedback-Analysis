{
 "cells": [
  {
   "cell_type": "code",
   "execution_count": 1,
   "id": "5be4529d-5bf3-42c5-99ba-598915d701b0",
   "metadata": {},
   "outputs": [
    {
     "name": "stdout",
     "output_type": "stream",
     "text": [
      "Scraping page 1...\n",
      "Scraping page 2...\n",
      "Scraping page 3...\n",
      "Scraping page 4...\n",
      "Scraping page 5...\n",
      "Scraping complete. Data saved to 'data/raw_reviews.csv'.\n"
     ]
    }
   ],
   "source": [
    "# Import libraries\n",
    "import requests\n",
    "from bs4 import BeautifulSoup\n",
    "import pandas as pd\n",
    "\n",
    "# Define the URL for British Airways reviews\n",
    "url = \"https://www.airlinequality.com/airline-reviews/british-airways/\"\n",
    "\n",
    "# Initialize an empty list to store reviews\n",
    "reviews = []\n",
    "\n",
    "# Loop through multiple pages (adjust range as needed)\n",
    "for page in range(1, 6):  # Scrape the first 5 pages\n",
    "    print(f\"Scraping page {page}...\")\n",
    "    response = requests.get(f\"{url}?sortby=post_date&pagesize=100&page={page}\")\n",
    "    soup = BeautifulSoup(response.text, 'html.parser')\n",
    "\n",
    "    # Find all review texts\n",
    "    for review in soup.find_all('div', class_='text_content'):\n",
    "        reviews.append(review.text.strip())\n",
    "\n",
    "# Save reviews to a DataFrame\n",
    "df = pd.DataFrame(reviews, columns=[\"Review\"])\n",
    "df.to_csv('../data/raw_reviews.csv', index=False)  # Save in the data folder\n",
    "print(\"Scraping complete. Data saved to 'data/raw_reviews.csv'.\")\n"
   ]
  },
  {
   "cell_type": "code",
   "execution_count": null,
   "id": "562e9066-5bec-41d1-90b1-a772332045c7",
   "metadata": {},
   "outputs": [],
   "source": []
  }
 ],
 "metadata": {
  "kernelspec": {
   "display_name": "Python 3 (ipykernel)",
   "language": "python",
   "name": "python3"
  },
  "language_info": {
   "codemirror_mode": {
    "name": "ipython",
    "version": 3
   },
   "file_extension": ".py",
   "mimetype": "text/x-python",
   "name": "python",
   "nbconvert_exporter": "python",
   "pygments_lexer": "ipython3",
   "version": "3.12.4"
  }
 },
 "nbformat": 4,
 "nbformat_minor": 5
}
