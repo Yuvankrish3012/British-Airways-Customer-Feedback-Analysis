{
 "cells": [
  {
   "cell_type": "code",
   "execution_count": 1,
   "id": "ee794d7a-ed42-47ef-9dbb-b561639ae08b",
   "metadata": {},
   "outputs": [
    {
     "name": "stdout",
     "output_type": "stream",
     "text": [
      "Data cleaning complete. Data saved to 'data/cleaned_reviews.csv'.\n"
     ]
    }
   ],
   "source": [
    "# Import libraries\n",
    "import pandas as pd\n",
    "\n",
    "# Load the scraped data\n",
    "df = pd.read_csv('../data/raw_reviews.csv')\n",
    "\n",
    "# Remove duplicates\n",
    "df.drop_duplicates(inplace=True)\n",
    "\n",
    "# Remove extra spaces and convert to lowercase\n",
    "df['Review'] = df['Review'].str.strip().str.lower()\n",
    "\n",
    "# Save the cleaned data\n",
    "df.to_csv('../data/cleaned_reviews.csv', index=False)\n",
    "print(\"Data cleaning complete. Data saved to 'data/cleaned_reviews.csv'.\")\n",
    "\n"
   ]
  },
  {
   "cell_type": "code",
   "execution_count": null,
   "id": "77585022-7469-4b57-b873-fbbdb9749f1f",
   "metadata": {},
   "outputs": [],
   "source": []
  }
 ],
 "metadata": {
  "kernelspec": {
   "display_name": "Python 3 (ipykernel)",
   "language": "python",
   "name": "python3"
  },
  "language_info": {
   "codemirror_mode": {
    "name": "ipython",
    "version": 3
   },
   "file_extension": ".py",
   "mimetype": "text/x-python",
   "name": "python",
   "nbconvert_exporter": "python",
   "pygments_lexer": "ipython3",
   "version": "3.12.4"
  }
 },
 "nbformat": 4,
 "nbformat_minor": 5
}
